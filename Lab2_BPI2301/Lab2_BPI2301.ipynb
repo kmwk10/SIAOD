{
 "cells": [
  {
   "cell_type": "markdown",
   "id": "fifteen-sailing",
   "metadata": {
    "id": "fifteen-sailing"
   },
   "source": [
    "# Лабораторная работа №2\n",
    "## Выполнил студент группы БПИ2301"
   ]
  },
  {
   "cell_type": "markdown",
   "id": "arctic-stocks",
   "metadata": {
    "id": "arctic-stocks"
   },
   "source": [
    "Реализовать следующие структуры данных:\n",
    "  \n",
    "● <b> Стек (stack): </b>  \n",
    "Операции для стека:\n",
    "<i> инициализация, проверка на пустоту, добавление нового элемента в начало, извлечение элемента из начала;  </i>  \n",
    "  \n",
    "● <b> Дек (двусторонняя очередь, deque):  </b>  \n",
    "Операции для дека:\n",
    "<i> инициализация, проверка на пустоту, добавление нового элемента в начало, добавление нового элемента в конец, извлечение элемента из начала, извлечение элемента из конца. </i>  \n",
    "  \n",
    "<i> Разработать программу обработки данных, содержащихся в заранее подготовленном txt-файле, в соответствии с заданиями, применив указанную в задании структуру данных. Результат работы программы вывести на экран и сохранить в отдельном txt-файле. </i>"
   ]
  },
  {
   "cell_type": "code",
   "execution_count": 69,
   "id": "f53500c3",
   "metadata": {},
   "outputs": [],
   "source": [
    "class Stack:\n",
    "    def __init__(self):\n",
    "        self.items = []\n",
    "    \n",
    "    def is_empty(self):\n",
    "        return len(self.items) == 0\n",
    "    \n",
    "    def push(self, item):\n",
    "        self.items.append(item)\n",
    "    \n",
    "    def pop(self):\n",
    "        if self.is_empty():\n",
    "            raise IndexError(\"Pop from empty stack\")\n",
    "        return self.items.pop()\n",
    "\n",
    "class Deque:\n",
    "    def __init__(self):\n",
    "        self.items = []\n",
    "    \n",
    "    def is_empty(self):\n",
    "        return len(self.items) == 0\n",
    "    \n",
    "    def add_front(self, item):\n",
    "        self.items.insert(0, item)\n",
    "    \n",
    "    def add_rear(self, item):\n",
    "        self.items.append(item)\n",
    "    \n",
    "    def remove_front(self):\n",
    "        if self.is_empty():\n",
    "            raise IndexError(\"Remove from empty deque\")\n",
    "        return self.items.pop(0)\n",
    "    \n",
    "    def remove_rear(self):\n",
    "        if self.is_empty():\n",
    "            raise IndexError(\"Remove from empty deque\")\n",
    "        return self.items.pop()"
   ]
  },
  {
   "cell_type": "markdown",
   "id": "5d7edb08",
   "metadata": {
    "id": "5d7edb08",
    "scrolled": true
   },
   "source": [
    "### Задание №1\n",
    "Отсортировать строки файла, содержащие названия книг, в алфавитном порядке с использованием двух деков."
   ]
  },
  {
   "cell_type": "code",
   "execution_count": 70,
   "id": "c10ce96c",
   "metadata": {},
   "outputs": [
    {
     "name": "stdout",
     "output_type": "stream",
     "text": [
      "Анна Каренина\n",
      "Война и мир\n",
      "Двенадцать стульев\n",
      "Доктор Живаго\n",
      "Идиот\n",
      "Мастер и Маргарита\n",
      "Обломов\n",
      "Отцы и дети\n",
      "Преступление и наказание\n",
      "Три товарища\n"
     ]
    }
   ],
   "source": [
    "def sort_books_with_deques(input_file, output_file):\n",
    "    deque1 = Deque()\n",
    "    deque2 = Deque()\n",
    "\n",
    "    with open(input_file, 'r', encoding='utf-8') as file:\n",
    "        for line in file:\n",
    "            deque1.add_rear(line.strip())\n",
    "\n",
    "    while not deque1.is_empty():\n",
    "        current_book = deque1.remove_front()\n",
    "        while not deque2.is_empty():\n",
    "            last_book = deque2.remove_rear()\n",
    "            if current_book >= last_book:\n",
    "                deque2.add_rear(last_book)  \n",
    "                break\n",
    "            deque1.add_front(last_book)\n",
    "        deque2.add_rear(current_book)\n",
    "\n",
    "    with open(output_file, 'w', encoding='utf-8') as file:\n",
    "        while not deque2.is_empty():\n",
    "            book = deque2.remove_front()\n",
    "            file.write(book + '\\n')\n",
    "            print(book)\n",
    "\n",
    "sort_books_with_deques(\"1_books.txt\", \"1_sorted_books.txt\")"
   ]
  },
  {
   "cell_type": "markdown",
   "id": "49fbd2a0",
   "metadata": {
    "id": "49fbd2a0"
   },
   "source": [
    "### Задание №2\n",
    "Дек содержит последовательность символов для шифровки сообщений. Дан текстовый файл, содержащий зашифрованное сообщение. Пользуясь деком, расшифровать текст.\n",
    "Известно, что при шифровке каждый символ сообщения заменялся следующим за ним в деке по часовой стрелке через один."
   ]
  },
  {
   "cell_type": "code",
   "execution_count": 71,
   "id": "81cab7a8",
   "metadata": {
    "id": "81cab7a8"
   },
   "outputs": [
    {
     "name": "stdout",
     "output_type": "stream",
     "text": [
      "ABCD\n"
     ]
    }
   ],
   "source": [
    "def decrypt_message(encoded_file, output_file, deque):\n",
    "    encoded = Deque()\n",
    "    with open(encoded_file, 'r', encoding='utf-8') as file:\n",
    "        for line in file:\n",
    "            for char in line:\n",
    "                encoded.add_rear(char)\n",
    "\n",
    "    decoded = Deque()\n",
    "    while not encoded.is_empty():\n",
    "        encoded_char = encoded.remove_front()\n",
    "        while True:\n",
    "            current_char = deque.remove_front()\n",
    "            deque.add_rear(current_char)\n",
    "            if current_char == encoded_char:\n",
    "                temp1 = deque.remove_rear()\n",
    "                temp2 = deque.remove_rear()\n",
    "                decoded_char = deque.remove_rear()\n",
    "\n",
    "                decoded.add_rear(decoded_char)\n",
    "                \n",
    "                deque.add_rear(decoded_char)\n",
    "                deque.add_rear(temp2)\n",
    "                deque.add_rear(temp1)\n",
    "                break\n",
    "\n",
    "    with open(output_file, 'w', encoding='utf-8') as file:\n",
    "        string = \"\"\n",
    "        while not decoded.is_empty():\n",
    "            string += decoded.remove_front()\n",
    "        file.write(string)\n",
    "        print(string)\n",
    "\n",
    "deque = Deque()\n",
    "deque.add_rear('A')\n",
    "deque.add_rear('B')\n",
    "deque.add_rear('C')\n",
    "deque.add_rear('D')\n",
    "\n",
    "decrypt_message(\"2_encoded.txt\", \"2_decoded.txt\", deque)"
   ]
  },
  {
   "cell_type": "markdown",
   "id": "c0894f47",
   "metadata": {
    "id": "c0894f47"
   },
   "source": [
    "### Задание №3\n",
    "Даны три стержня и n дисков различного размера. Диски можно надевать на стержни, образуя из них башни. Перенести n дисков со стержня А на стержень С, сохранив их первоначальный порядок. При переносе дисков необходимо соблюдать следующие правила:\n",
    "- на каждом шаге со стержня на стержень переносить только один диск;\n",
    "- диск нельзя помещать на диск меньшего размера;\n",
    "- для промежуточного хранения можно использовать стержень В.\n",
    "Реализовать алгоритм, используя три стека вместо стержней А, В, С. Информация о дисках хранится в исходном файле."
   ]
  },
  {
   "cell_type": "code",
   "execution_count": 72,
   "id": "9e91a9d4",
   "metadata": {
    "id": "9e91a9d4"
   },
   "outputs": [
    {
     "name": "stdout",
     "output_type": "stream",
     "text": [
      "[12, 9, 8, 5, 2]\n"
     ]
    }
   ],
   "source": [
    "def move_disks(n, source, target, extra, source_name, target_name, extra_name, moves):\n",
    "    if n == 1:\n",
    "        disk = source.pop()\n",
    "        target.push(disk)\n",
    "        moves.append(f\"Переместить диск {disk} с {source_name} на {target_name}\")\n",
    "        return\n",
    "    \n",
    "    move_disks(n - 1, source, extra, target, source_name, extra_name, target_name, moves)\n",
    "    move_disks(1, source, target, extra, source_name, target_name, extra_name, moves)\n",
    "    move_disks(n - 1, extra, target, source, extra_name, target_name, source_name, moves)\n",
    "\n",
    "def hanoi_solver(input_file, output_file):\n",
    "    A = Stack()\n",
    "    with open(input_file, 'r', encoding='utf-8') as file:\n",
    "        n = 0\n",
    "        for line in file:\n",
    "            n += 1\n",
    "            A.push(int(line.strip()))\n",
    "\n",
    "    B = Stack()\n",
    "    C = Stack()\n",
    "    moves = []\n",
    "\n",
    "    move_disks(n, A, C, B, \"A\", \"C\", \"B\", moves)\n",
    "\n",
    "    with open(output_file, 'w', encoding='utf-8') as file:\n",
    "        for move in moves:\n",
    "            file.write(move + '\\n')\n",
    "    print(C.items)\n",
    "\n",
    "hanoi_solver(\"3_input.txt\", \"3_output.txt\")"
   ]
  },
  {
   "cell_type": "markdown",
   "id": "e5b0be17",
   "metadata": {
    "id": "e5b0be17"
   },
   "source": [
    "### Задание №4\n",
    "Дан текстовый файл с программой на алгоритмическом языке. За один просмотр файла проверить баланс круглых скобок в тексте, используя стек."
   ]
  },
  {
   "cell_type": "code",
   "execution_count": 73,
   "id": "5b1df60a",
   "metadata": {
    "id": "5b1df60a"
   },
   "outputs": [
    {
     "name": "stdout",
     "output_type": "stream",
     "text": [
      "Баланс скобок соблюден\n"
     ]
    }
   ],
   "source": [
    "def check_parentheses_balance(file_path):\n",
    "    stack = Stack()\n",
    "\n",
    "    with open(file_path, 'r', encoding='utf-8') as file:\n",
    "        for line in file:\n",
    "            for char in line:\n",
    "                if char == '(':\n",
    "                    stack.push(char)\n",
    "                elif char == ')':\n",
    "                    if stack.is_empty():\n",
    "                        return \"Ошибка: лишняя закрывающая скобка\"\n",
    "                    stack.pop()\n",
    "\n",
    "    if stack.is_empty():\n",
    "        return \"Баланс скобок соблюден\"\n",
    "    else:\n",
    "        return \"Ошибка: не хватает закрывающих скобок\"\n",
    "\n",
    "result = check_parentheses_balance(\"4_program.txt\")\n",
    "with open(\"4_result.txt\", 'w', encoding='utf-8') as file:\n",
    "        file.write(result)\n",
    "print(result)"
   ]
  },
  {
   "cell_type": "markdown",
   "id": "c44cdd6b",
   "metadata": {
    "id": "c44cdd6b"
   },
   "source": [
    "### Задание №5\n",
    "Дан текстовый файл с программой на алгоритмическом языке. За один просмотр файла проверить баланс квадратных скобок в тексте, используя дек."
   ]
  },
  {
   "cell_type": "code",
   "execution_count": 74,
   "id": "36b8f400",
   "metadata": {
    "id": "36b8f400"
   },
   "outputs": [
    {
     "name": "stdout",
     "output_type": "stream",
     "text": [
      "Баланс скобок соблюден\n"
     ]
    }
   ],
   "source": [
    "def check_brackets_balance(file_path):\n",
    "    deque = Deque()\n",
    "\n",
    "    with open(file_path, 'r', encoding='utf-8') as file:\n",
    "        for line in file:\n",
    "            for char in line:\n",
    "                if char == '[':\n",
    "                    deque.add_rear(char)\n",
    "                elif char == ']':\n",
    "                    if deque.is_empty():\n",
    "                        return \"Ошибка: лишняя закрывающая скобка\"\n",
    "                    deque.remove_rear()\n",
    "\n",
    "    if deque.is_empty():\n",
    "        return \"Баланс скобок соблюден\"\n",
    "    else:\n",
    "        return \"Ошибка: не хватает закрывающих скобок\"\n",
    "\n",
    "result = check_brackets_balance(\"5_program.txt\")\n",
    "with open(\"5_result.txt\", 'w', encoding='utf-8') as file:\n",
    "        file.write(result)\n",
    "print(result)"
   ]
  },
  {
   "cell_type": "markdown",
   "id": "59d13dc7",
   "metadata": {
    "id": "59d13dc7"
   },
   "source": [
    "### Задание №6\n",
    "Дан файл из символов. Используя стек, за один просмотр файла напечатать сначала все цифры, затем все буквы, и, наконец, все остальные символы, сохраняя исходный порядок в каждой группе символов."
   ]
  },
  {
   "cell_type": "code",
   "execution_count": 75,
   "id": "297e36c2",
   "metadata": {
    "id": "297e36c2"
   },
   "outputs": [
    {
     "name": "stdout",
     "output_type": "stream",
     "text": [
      "123ABC.,!\n"
     ]
    }
   ],
   "source": [
    "def process_file(file_path):\n",
    "    letters = Stack()\n",
    "    others = Stack()\n",
    "    result = \"\"\n",
    "\n",
    "    with open(file_path, 'r', encoding='utf-8') as file:\n",
    "        for line in file:\n",
    "            for char in line:\n",
    "                if char.isdigit():\n",
    "                    result += char\n",
    "                elif char.isalpha():\n",
    "                    letters.push(char)\n",
    "                else:\n",
    "                    others.push(char)\n",
    "\n",
    "    cnt = 0\n",
    "    while not letters.is_empty():\n",
    "        cnt += 1\n",
    "        others.push(letters.pop())\n",
    "    for _ in range(cnt):\n",
    "        result += others.pop()\n",
    "\n",
    "    while not others.is_empty():\n",
    "        letters.push(others.pop())\n",
    "    while not letters.is_empty():\n",
    "        result += letters.pop()\n",
    "\n",
    "    return result\n",
    "\n",
    "result = process_file(\"6_symbols.txt\")\n",
    "print(result)\n",
    "with open(\"6_result.txt\", 'w', encoding='utf-8') as file:\n",
    "        file.write(result)"
   ]
  },
  {
   "cell_type": "markdown",
   "id": "973f68bd",
   "metadata": {
    "id": "973f68bd"
   },
   "source": [
    "### Задание №7\n",
    "Дан файл из целых чисел. Используя дек, за один просмотр файла напечатать сначала все отрицательные числа, затем все положительные числа, сохраняя исходный порядок в каждой группе."
   ]
  },
  {
   "cell_type": "code",
   "execution_count": 76,
   "id": "c56fad66",
   "metadata": {
    "id": "c56fad66"
   },
   "outputs": [
    {
     "name": "stdout",
     "output_type": "stream",
     "text": [
      "-12\n",
      "-7\n",
      "-5\n",
      "-3\n",
      "5\n",
      "6\n",
      "11\n",
      "14\n",
      "17\n",
      "\n"
     ]
    }
   ],
   "source": [
    "def process_numbers(file_path):\n",
    "    deque = Deque()\n",
    "    result = \"\"\n",
    "\n",
    "    with open(file_path, 'r', encoding='utf-8') as file:\n",
    "        for line in file:\n",
    "            num = int(line.strip())\n",
    "            if num < 0:\n",
    "                result += str(num)+\"\\n\"\n",
    "            else:\n",
    "                deque.add_rear(num)\n",
    "\n",
    "    while not deque.is_empty():\n",
    "        result += str(deque.remove_front())+\"\\n\"\n",
    "\n",
    "    return result\n",
    "\n",
    "result = process_numbers(\"7_numbers.txt\")\n",
    "print(result)\n",
    "with open(\"7_result.txt\", 'w', encoding='utf-8') as file:\n",
    "    file.write(result)"
   ]
  },
  {
   "cell_type": "markdown",
   "id": "b9228191",
   "metadata": {
    "id": "b9228191"
   },
   "source": [
    "### Задание №8\n",
    "Дан текстовый файл. Используя стек, сформировать новый текстовый файл, содержащий строки исходного файла, записанные в обратном порядке: первая строка становится последней, вторая – предпоследней и т.д."
   ]
  },
  {
   "cell_type": "code",
   "execution_count": 82,
   "id": "981fbdfe",
   "metadata": {
    "id": "981fbdfe"
   },
   "outputs": [
    {
     "name": "stdout",
     "output_type": "stream",
     "text": [
      "Пятая строка\n",
      "Четвёртая строка\n",
      "Третья строка\n",
      "Вторая строка\n",
      "Первая строка\n",
      "\n"
     ]
    }
   ],
   "source": [
    "def reverse_lines(input_file):\n",
    "    stack = Stack()\n",
    "\n",
    "    # Чтение строк и добавление в стек\n",
    "    with open(input_file, 'r', encoding='utf-8') as file:\n",
    "        for line in file:\n",
    "            stack.push(line.strip())  # Убираем лишние пробелы/переводы строк\n",
    "\n",
    "    result = \"\"\n",
    "    while not stack.is_empty():\n",
    "        result += stack.pop() + \"\\n\"\n",
    "    return result\n",
    "    \n",
    "result = reverse_lines(\"8_input.txt\")\n",
    "print(result)\n",
    "with open(\"8_output.txt\", 'w', encoding='utf-8') as file:\n",
    "    file.write(result)"
   ]
  },
  {
   "cell_type": "markdown",
   "id": "rental-jerusalem",
   "metadata": {
    "id": "rental-jerusalem"
   },
   "source": [
    "### Вывод\n"
   ]
  },
  {
   "cell_type": "markdown",
   "id": "0c2b8899",
   "metadata": {
    "id": "0c2b8899"
   },
   "source": [
    "В ходе выполнения лабораторной работы были изучены и применены структуры данных **стек** и **дек** для решения различных задач. Были реализованы алгоритмы, демонстрирующие умение эффективно использовать стек и дек для обработки данных, изменения их порядка и проверки условий в текстовых файлах. Полученные результаты подтвердили, что использование этих структур позволяет решать задачи с минимальными временными затратами и сохранением порядка данных, что делает их удобными для работы с последовательностями и рекурсивными процессами."
   ]
  }
 ],
 "metadata": {
  "colab": {
   "provenance": [
    {
     "file_id": "1SJnopeql2j1MhzcaJ8o68KaPzPnynIeK",
     "timestamp": 1676536264821
    }
   ]
  },
  "kernelspec": {
   "display_name": "Python 3",
   "language": "python",
   "name": "python3"
  },
  "language_info": {
   "codemirror_mode": {
    "name": "ipython",
    "version": 3
   },
   "file_extension": ".py",
   "mimetype": "text/x-python",
   "name": "python",
   "nbconvert_exporter": "python",
   "pygments_lexer": "ipython3",
   "version": "3.13.2"
  }
 },
 "nbformat": 4,
 "nbformat_minor": 5
}
