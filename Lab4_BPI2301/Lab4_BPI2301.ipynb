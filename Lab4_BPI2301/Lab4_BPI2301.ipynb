{
 "cells": [
  {
   "cell_type": "markdown",
   "id": "0dc17119",
   "metadata": {},
   "source": [
    "# Лабораторная работа №4\n",
    "## Выполнил студент группы БПИ2301"
   ]
  },
  {
   "cell_type": "markdown",
   "id": "1b42d4b1",
   "metadata": {},
   "source": [
    "### Задание №1\n",
    "Реализовать алгоритм поиска кратчайшего расстояния между двумя вершинами ориентированного взвешенного графа в соответствии с вариантом."
   ]
  },
  {
   "cell_type": "code",
   "execution_count": 276,
   "id": "17594739",
   "metadata": {},
   "outputs": [
    {
     "data": {
      "text/plain": [
       "{0: 0, 1: 4, 2: 9}"
      ]
     },
     "execution_count": 276,
     "metadata": {},
     "output_type": "execute_result"
    }
   ],
   "source": [
    "import heapq\n",
    "\n",
    "def dijkstra(graph, start):\n",
    "    distances = {node: float('inf') for node in graph} # distances = {0: inf, 1: inf, 2: inf}\n",
    "    distances[start] = 0 \n",
    "    visited = set()\n",
    "    queue = [(0, start)] # (расстояние от начальной вершины до этой, вершина)\n",
    "\n",
    "    while queue:\n",
    "        current_distance, current_node = heapq.heappop(queue)\n",
    "\n",
    "        if current_node in visited:\n",
    "            continue\n",
    "        visited.add(current_node)\n",
    "\n",
    "        for neighbor, weight in graph[current_node].items():\n",
    "            distance = current_distance + weight\n",
    "            if distance < distances[neighbor]:\n",
    "                distances[neighbor] = distance\n",
    "                heapq.heappush(queue, (distance, neighbor))\n",
    "\n",
    "    return distances\n",
    "\n",
    "graph = {\n",
    "            0: {1: 4, 2: 10}, # из веришны 0 дуга длиной 4 в вершину 1, из веришны 0 дуга длиной 10 в вершину 2\n",
    "            1: {2: 5},        # из веришны 1 дуга длиной 5 в вершину 2\n",
    "            2: {},\n",
    "        }\n",
    "\n",
    "start = 0 # имя начальной вершины\n",
    "\n",
    "dijkstra(graph, start)"
   ]
  },
  {
   "cell_type": "markdown",
   "id": "1eb8d6f8",
   "metadata": {},
   "source": [
    "### Задание №2\n",
    "Предусмотреть задание графа в виде матрицы смежности/инцидентности, читаемой из файла, либо графически с помощью пользовательского интерфейса.\n"
   ]
  },
  {
   "cell_type": "code",
   "execution_count": 277,
   "id": "1bf65b0f",
   "metadata": {},
   "outputs": [],
   "source": [
    "import networkx as nx\n",
    "\n",
    "def read_matrix_from_file(filename):\n",
    "    with open(filename, 'r') as f:\n",
    "        lines = f.readlines()\n",
    "    matrix = []\n",
    "    for line in lines:\n",
    "        row = list(map(int, line.strip().split()))\n",
    "        matrix.append(row)\n",
    "    return matrix\n",
    "\n",
    "def matrix_to_dict(matrix):\n",
    "    graph = {}\n",
    "    size = len(matrix)\n",
    "    for i in range(size):\n",
    "        graph[i] = {}  \n",
    "        for j in range(size):\n",
    "            weight = matrix[i][j]\n",
    "            if weight != 0:\n",
    "                graph[i][j] = weight            \n",
    "    return graph"
   ]
  },
  {
   "cell_type": "code",
   "execution_count": 278,
   "id": "a9ac9936",
   "metadata": {},
   "outputs": [
    {
     "name": "stdout",
     "output_type": "stream",
     "text": [
      "adjacency matrix:\n",
      "[0, 4, 10]\n",
      "[0, 0, 5]\n",
      "[0, 0, 0]\n",
      "\n",
      "dict:\n",
      "{0: {1: 4, 2: 10}, 1: {2: 5}, 2: {}}\n"
     ]
    }
   ],
   "source": [
    "matrix = read_matrix_from_file(\"matrix.txt\")\n",
    "print(\"adjacency matrix:\")\n",
    "print(*matrix, sep=\"\\n\")\n",
    "\n",
    "graph_from_matrix = matrix_to_dict(matrix)\n",
    "print(\"\\ndict:\")\n",
    "print(graph_from_matrix)"
   ]
  },
  {
   "cell_type": "markdown",
   "id": "a49e2a2d",
   "metadata": {},
   "source": [
    "### Задание №3\n",
    "Разработать графический интерфейс пользователя с визуализацией графа и отображением кратчайшего расстояния между задаваемыми пользователем вершинами."
   ]
  },
  {
   "cell_type": "code",
   "execution_count": 279,
   "id": "7bd12bda",
   "metadata": {},
   "outputs": [
    {
     "data": {
      "text/plain": [
       "([0, 1, 2], 9)"
      ]
     },
     "execution_count": 279,
     "metadata": {},
     "output_type": "execute_result"
    }
   ],
   "source": [
    "def get_shortest_path(graph, start, end):\n",
    "    distances = dijkstra(graph, start)\n",
    "    if distances[end] == float('inf'):\n",
    "        return None, float('inf')\n",
    "\n",
    "    path = []\n",
    "    current = end\n",
    "\n",
    "    while current != start:\n",
    "        for prev in graph:\n",
    "            if current in graph[prev]:\n",
    "                if distances[prev] + graph[prev][current] == distances[current]:\n",
    "                    path.append(current)\n",
    "                    current = prev\n",
    "                    break\n",
    "        else:\n",
    "            return None, float('inf')\n",
    "    path.append(start)\n",
    "    path.reverse()\n",
    "    return path, distances[end]\n",
    "\n",
    "end = 2 # имя конечной вершины\n",
    "get_shortest_path(graph, start, end)"
   ]
  },
  {
   "cell_type": "code",
   "execution_count": 280,
   "id": "19eec82f",
   "metadata": {},
   "outputs": [
    {
     "data": {
      "image/png": "[encoded data removed]",
      "text/plain": [
       "<Figure size 640x480 with 1 Axes>"
      ]
     },
     "metadata": {},
     "output_type": "display_data"
    }
   ],
   "source": [
    "from ipywidgets import interact, widgets\n",
    "\n",
    "def draw_graph(G, path=None):\n",
    "    pos = nx.spring_layout(G)\n",
    "    edge_labels = nx.get_edge_attributes(G, 'weight')\n",
    "    nx.draw(G, pos, with_labels=True, node_color='lightblue', node_size=700, font_weight='bold')\n",
    "    nx.draw_networkx_edge_labels(G, pos, edge_labels=edge_labels)\n",
    "    \n",
    "    if path:\n",
    "        path_edges = list(zip(path, path[1:]))\n",
    "        nx.draw_networkx_edges(G, pos, edgelist=path_edges, edge_color='r', width=2)\n",
    "\n",
    "G = nx.DiGraph(graph)\n",
    "draw_graph(G,  [0, 1, 2])"
   ]
  },
  {
   "cell_type": "code",
   "execution_count": 281,
   "id": "1c817011",
   "metadata": {},
   "outputs": [],
   "source": [
    "def interactive_shortest_path(graph, matrix=False):\n",
    "    if matrix:\n",
    "        graph = matrix_to_dict(graph)\n",
    "    G = nx.DiGraph(graph)\n",
    "    nodes = list(G.nodes)\n",
    "\n",
    "    @interact(start=widgets.Dropdown(options=nodes, description=\"Start:\"),\n",
    "              end=widgets.Dropdown(options=nodes, description=\"End:\"))\n",
    "    def find_path(start, end):\n",
    "        path, distance = get_shortest_path(graph, start, end)\n",
    "        if path is None:\n",
    "            print(f\"There is no path from {start} to {end}\")\n",
    "            draw_graph(G)\n",
    "        else:\n",
    "            print(f\"Shortest path from {start} to {end}: {path}\")\n",
    "            print(f\"Path length: {distance}\")\n",
    "            draw_graph(G, path=path)"
   ]
  },
  {
   "cell_type": "code",
   "execution_count": 282,
   "id": "fec8454e",
   "metadata": {},
   "outputs": [
    {
     "data": {
      "application/vnd.jupyter.widget-view+json": {
       "model_id": "d8c0f9786d2f48f8a65a376e0b8f2c63",
       "version_major": 2,
       "version_minor": 0
      },
      "text/plain": [
       "interactive(children=(Dropdown(description='Start:', options=(0, 1, 2), value=0), Dropdown(description='End:',…"
      ]
     },
     "metadata": {},
     "output_type": "display_data"
    }
   ],
   "source": [
    "graph_example = {\n",
    "    0: {1: 4, 2: 10},\n",
    "    1: {2: 5},\n",
    "    2: {},\n",
    "}\n",
    "\n",
    "interactive_shortest_path(graph_example)"
   ]
  },
  {
   "cell_type": "code",
   "execution_count": 283,
   "id": "34c1ce79",
   "metadata": {},
   "outputs": [
    {
     "data": {
      "application/vnd.jupyter.widget-view+json": {
       "model_id": "52b4bc0eb0894d8faee4e5945e4a221d",
       "version_major": 2,
       "version_minor": 0
      },
      "text/plain": [
       "interactive(children=(Dropdown(description='Start:', options=(0, 1, 2), value=0), Dropdown(description='End:',…"
      ]
     },
     "metadata": {},
     "output_type": "display_data"
    }
   ],
   "source": [
    "matrix_example = read_matrix_from_file(\"matrix.txt\")\n",
    "\n",
    "interactive_shortest_path(matrix_example, True)"
   ]
  },
  {
   "cell_type": "markdown",
   "id": "55f74a93",
   "metadata": {},
   "source": [
    "### Задание №4\n",
    "По результатам работы проанализировать временную сложность работы заданного алгоритма в зависимости от числа узлов и ребер графа.\n",
    "Данные представить в виде таблицы."
   ]
  },
  {
   "cell_type": "code",
   "execution_count": 284,
   "id": "621e3c8e",
   "metadata": {},
   "outputs": [
    {
     "data": {
      "text/html": [
       "<div>\n",
       "<style scoped>\n",
       "    .dataframe tbody tr th:only-of-type {\n",
       "        vertical-align: middle;\n",
       "    }\n",
       "\n",
       "    .dataframe tbody tr th {\n",
       "        vertical-align: top;\n",
       "    }\n",
       "\n",
       "    .dataframe thead th {\n",
       "        text-align: right;\n",
       "    }\n",
       "</style>\n",
       "<table border=\"1\" class=\"dataframe\">\n",
       "  <thead>\n",
       "    <tr style=\"text-align: right;\">\n",
       "      <th></th>\n",
       "      <th>Vertices</th>\n",
       "      <th>Density</th>\n",
       "      <th>Edges</th>\n",
       "      <th>Execution Time (s)</th>\n",
       "    </tr>\n",
       "  </thead>\n",
       "  <tbody>\n",
       "    <tr>\n",
       "      <th>0</th>\n",
       "      <td>100</td>\n",
       "      <td>0.2</td>\n",
       "      <td>1918</td>\n",
       "      <td>0.0003</td>\n",
       "    </tr>\n",
       "    <tr>\n",
       "      <th>1</th>\n",
       "      <td>100</td>\n",
       "      <td>0.5</td>\n",
       "      <td>4956</td>\n",
       "      <td>0.0003</td>\n",
       "    </tr>\n",
       "    <tr>\n",
       "      <th>2</th>\n",
       "      <td>100</td>\n",
       "      <td>0.8</td>\n",
       "      <td>7959</td>\n",
       "      <td>0.0005</td>\n",
       "    </tr>\n",
       "    <tr>\n",
       "      <th>3</th>\n",
       "      <td>300</td>\n",
       "      <td>0.2</td>\n",
       "      <td>17954</td>\n",
       "      <td>0.0011</td>\n",
       "    </tr>\n",
       "    <tr>\n",
       "      <th>4</th>\n",
       "      <td>300</td>\n",
       "      <td>0.5</td>\n",
       "      <td>45009</td>\n",
       "      <td>0.0023</td>\n",
       "    </tr>\n",
       "    <tr>\n",
       "      <th>5</th>\n",
       "      <td>300</td>\n",
       "      <td>0.8</td>\n",
       "      <td>71720</td>\n",
       "      <td>0.0033</td>\n",
       "    </tr>\n",
       "    <tr>\n",
       "      <th>6</th>\n",
       "      <td>500</td>\n",
       "      <td>0.2</td>\n",
       "      <td>50124</td>\n",
       "      <td>0.0031</td>\n",
       "    </tr>\n",
       "    <tr>\n",
       "      <th>7</th>\n",
       "      <td>500</td>\n",
       "      <td>0.5</td>\n",
       "      <td>124775</td>\n",
       "      <td>0.0066</td>\n",
       "    </tr>\n",
       "    <tr>\n",
       "      <th>8</th>\n",
       "      <td>500</td>\n",
       "      <td>0.8</td>\n",
       "      <td>199629</td>\n",
       "      <td>0.0086</td>\n",
       "    </tr>\n",
       "    <tr>\n",
       "      <th>9</th>\n",
       "      <td>700</td>\n",
       "      <td>0.2</td>\n",
       "      <td>97644</td>\n",
       "      <td>0.0085</td>\n",
       "    </tr>\n",
       "    <tr>\n",
       "      <th>10</th>\n",
       "      <td>700</td>\n",
       "      <td>0.5</td>\n",
       "      <td>245241</td>\n",
       "      <td>0.0118</td>\n",
       "    </tr>\n",
       "    <tr>\n",
       "      <th>11</th>\n",
       "      <td>700</td>\n",
       "      <td>0.8</td>\n",
       "      <td>392116</td>\n",
       "      <td>0.0170</td>\n",
       "    </tr>\n",
       "    <tr>\n",
       "      <th>12</th>\n",
       "      <td>900</td>\n",
       "      <td>0.2</td>\n",
       "      <td>162026</td>\n",
       "      <td>0.0089</td>\n",
       "    </tr>\n",
       "    <tr>\n",
       "      <th>13</th>\n",
       "      <td>900</td>\n",
       "      <td>0.5</td>\n",
       "      <td>404820</td>\n",
       "      <td>0.0202</td>\n",
       "    </tr>\n",
       "    <tr>\n",
       "      <th>14</th>\n",
       "      <td>900</td>\n",
       "      <td>0.8</td>\n",
       "      <td>646705</td>\n",
       "      <td>0.0274</td>\n",
       "    </tr>\n",
       "  </tbody>\n",
       "</table>\n",
       "</div>"
      ],
      "text/plain": [
       "    Vertices  Density   Edges  Execution Time (s)\n",
       "0        100      0.2    1918              0.0003\n",
       "1        100      0.5    4956              0.0003\n",
       "2        100      0.8    7959              0.0005\n",
       "3        300      0.2   17954              0.0011\n",
       "4        300      0.5   45009              0.0023\n",
       "5        300      0.8   71720              0.0033\n",
       "6        500      0.2   50124              0.0031\n",
       "7        500      0.5  124775              0.0066\n",
       "8        500      0.8  199629              0.0086\n",
       "9        700      0.2   97644              0.0085\n",
       "10       700      0.5  245241              0.0118\n",
       "11       700      0.8  392116              0.0170\n",
       "12       900      0.2  162026              0.0089\n",
       "13       900      0.5  404820              0.0202\n",
       "14       900      0.8  646705              0.0274"
      ]
     },
     "execution_count": 284,
     "metadata": {},
     "output_type": "execute_result"
    }
   ],
   "source": [
    "import random\n",
    "import time\n",
    "import pandas as pd\n",
    "\n",
    "def generate_random_adj_matrix(size, edge_prob, max_weight=100):\n",
    "    # edge_prob - вероятность наличия ребра между двумя вершинами\n",
    "    matrix = [[0]*size for _ in range(size)]\n",
    "    for i in range(size):\n",
    "        for j in range(size):\n",
    "            if i != j and random.random() < edge_prob:\n",
    "                matrix[i][j] = random.randint(1, max_weight)\n",
    "    return matrix\n",
    "\n",
    "results = []\n",
    "node_counts = [100, 300, 500, 700, 900]\n",
    "edge_probs = [0.2, 0.5, 0.8]\n",
    "\n",
    "for n in node_counts:\n",
    "    for p in edge_probs:\n",
    "        matrix = generate_random_adj_matrix(n, edge_prob=p)\n",
    "        graph = matrix_to_dict(matrix)\n",
    "\n",
    "        start_time = time.time()\n",
    "        dijkstra(graph, 0) # O((V + E) * log V) для heapq\n",
    "        exec_time = time.time() - start_time\n",
    "\n",
    "        num_edges = sum(len(v) for v in graph.values())\n",
    "        results.append({\n",
    "            \"Vertices\": n,\n",
    "            \"Density\": p,\n",
    "            \"Edges\": num_edges,\n",
    "            \"Execution Time (s)\": round(exec_time, 4)\n",
    "        })\n",
    "\n",
    "df = pd.DataFrame(results)\n",
    "df.sort_values(by=[\"Vertices\", \"Density\"])\n"
   ]
  }
 ],
 "metadata": {
  "kernelspec": {
   "display_name": "Python 3",
   "language": "python",
   "name": "python3"
  },
  "language_info": {
   "codemirror_mode": {
    "name": "ipython",
    "version": 3
   },
   "file_extension": ".py",
   "mimetype": "text/x-python",
   "name": "python",
   "nbconvert_exporter": "python",
   "pygments_lexer": "ipython3",
   "version": "3.13.2"
  }
 },
 "nbformat": 4,
 "nbformat_minor": 5
}
