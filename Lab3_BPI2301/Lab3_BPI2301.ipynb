{
 "cells": [
  {
   "cell_type": "markdown",
   "metadata": {},
   "source": [
    "# Лабораторная работа №3\n",
    "## Выполнил студент группы БПИ2301"
   ]
  },
  {
   "cell_type": "markdown",
   "metadata": {},
   "source": [
    "### Задание №1\n",
    "Реализовать методы поиска (бинарный поиск, бинарное дерево, фибоначчиев, интерполяционный)"
   ]
  },
  {
   "cell_type": "code",
   "execution_count": 563,
   "metadata": {},
   "outputs": [
    {
     "name": "stdout",
     "output_type": "stream",
     "text": [
      "data: [86, 74, 5, 21, 46, 4, 33, 58, 11, 70]\n",
      "target: 21\n"
     ]
    }
   ],
   "source": [
    "import random\n",
    "\n",
    "def generate_list(length, start, stop):\n",
    "    return [random.randint(start, stop) for _ in range(length)]\n",
    "\n",
    "data = generate_list(10, 0, 100)\n",
    "target = random.choice(data)\n",
    "print(f\"data: {data}\\ntarget: {target}\")"
   ]
  },
  {
   "cell_type": "markdown",
   "metadata": {
    "id": "Io6G6zs3wtoU"
   },
   "source": [
    "Бинарный поиск"
   ]
  },
  {
   "cell_type": "code",
   "execution_count": 564,
   "metadata": {
    "colab": {
     "base_uri": "https://localhost:8080/"
    },
    "executionInfo": {
     "elapsed": 236,
     "status": "ok",
     "timestamp": 1681542960476,
     "user": {
      "displayName": "Sergey Simonov",
      "userId": "14094206399671235086"
     },
     "user_tz": -180
    },
    "id": "4Du2YvLHxUoV",
    "outputId": "b818e1df-bee0-4008-e49c-57e2854b9666"
   },
   "outputs": [],
   "source": [
    "def binary_search(arr, item):\n",
    "    low = 0\n",
    "    high = len(arr) - 1\n",
    "    while low <= high:\n",
    "        mid = (low + high) // 2\n",
    "        if arr[mid] == item:\n",
    "            return mid\n",
    "        elif arr[mid] > item: \n",
    "            high = mid - 1\n",
    "        else:\n",
    "            low = mid + 1\n",
    "    return None"
   ]
  },
  {
   "cell_type": "code",
   "execution_count": 565,
   "metadata": {},
   "outputs": [],
   "source": [
    "def standart_add(arr, item):\n",
    "    arr.append(item)\n",
    "    arr.sort()\n",
    "\n",
    "def standart_remove(arr, item):\n",
    "    if item in arr:\n",
    "        arr.remove(item)\n",
    "    else:\n",
    "        return None"
   ]
  },
  {
   "cell_type": "markdown",
   "metadata": {
    "id": "um4yvoNCvMN8"
   },
   "source": [
    "Бинарное дерево"
   ]
  },
  {
   "cell_type": "code",
   "execution_count": 566,
   "metadata": {
    "colab": {
     "base_uri": "https://localhost:8080/"
    },
    "executionInfo": {
     "elapsed": 265,
     "status": "ok",
     "timestamp": 1681542363994,
     "user": {
      "displayName": "Sergey Simonov",
      "userId": "14094206399671235086"
     },
     "user_tz": -180
    },
    "id": "bg-nW5UqvCrT",
    "outputId": "f2d4cf4c-2326-47a3-9ea6-d2ccc1d1b38d"
   },
   "outputs": [],
   "source": [
    "class Node:\n",
    "    def __init__(self, key):\n",
    "        self.left = None\n",
    "        self.right = None\n",
    "        self.val = key\n",
    "\n",
    "def tree_search(root, key):\n",
    "    if root is None or root.val == key:\n",
    "        return root\n",
    "    if root.val < key:\n",
    "        return tree_search(root.right, key)\n",
    "    return tree_search(root.left, key)\n",
    "\n",
    "def tree_add(root, key):\n",
    "    if root is None:\n",
    "        return Node(key)\n",
    "    if root.val < key:\n",
    "        root.right = tree_add(root.right, key)\n",
    "    else:\n",
    "        root.left = tree_add(root.left, key)\n",
    "    return root\n",
    "\n",
    "def find_min(node):\n",
    "    current = node\n",
    "    while current.left is not None:\n",
    "        current = current.left\n",
    "    return current\n",
    "\n",
    "def tree_remove(root, key):\n",
    "    if root is None:\n",
    "        return root\n",
    "\n",
    "    if key < root.val:\n",
    "        root.left = tree_remove(root.left, key)\n",
    "    elif key > root.val:\n",
    "        root.right = tree_remove(root.right, key)\n",
    "    else:\n",
    "        if root.left is None:\n",
    "            return root.right\n",
    "        elif root.right is None:\n",
    "            return root.left\n",
    "\n",
    "        min_larger_node = find_min(root.right)\n",
    "        root.val = min_larger_node.val\n",
    "        root.right = tree_remove(root.right, min_larger_node.val)\n",
    "\n",
    "    return root\n",
    "\n",
    "\n",
    "def print_tree(root, level=0, prefix=\"Root: \"):\n",
    "    if root is not None:\n",
    "        print(\" \" * (level * 4) + prefix + str(root.val))\n",
    "        if root.left or root.right:\n",
    "            if root.right:\n",
    "                print_tree(root.right, level + 1, \"R --- \")\n",
    "            else:\n",
    "                print(\" \" * ((level + 1) * 4) + \"R --- None\")\n",
    "            if root.left:\n",
    "                print_tree(root.left, level + 1, \"L --- \")\n",
    "            else:\n",
    "                print(\" \" * ((level + 1) * 4) + \"L --- None\")"
   ]
  },
  {
   "cell_type": "markdown",
   "metadata": {
    "id": "zjVDNTg6yjrJ"
   },
   "source": [
    "Фибоначчиев поиск"
   ]
  },
  {
   "cell_type": "code",
   "execution_count": 567,
   "metadata": {
    "colab": {
     "base_uri": "https://localhost:8080/"
    },
    "executionInfo": {
     "elapsed": 261,
     "status": "ok",
     "timestamp": 1681543294929,
     "user": {
      "displayName": "Sergey Simonov",
      "userId": "14094206399671235086"
     },
     "user_tz": -180
    },
    "id": "wMdAMFkhymL-",
    "outputId": "eb8ec74e-eadd-4bbc-f42c-90e074d3ad49"
   },
   "outputs": [],
   "source": [
    "def fibonacci_search(arr, item):\n",
    "    fib1, fib2 = 0, 1\n",
    "    fib_sum = fib1 + fib2\n",
    "    while fib_sum < len(arr):\n",
    "        fib1 = fib2\n",
    "        fib2 = fib_sum\n",
    "        fib_sum = fib1 + fib2\n",
    "\n",
    "    offset = -1\n",
    "    while fib_sum > 1:\n",
    "        i = min(offset + fib1, len(arr) - 1)\n",
    "        if arr[i] < item:\n",
    "            fib_sum = fib2\n",
    "            fib2 = fib1\n",
    "            fib1 = fib_sum - fib2\n",
    "            offset = i\n",
    "        elif arr[i] > item:\n",
    "            fib_sum = fib1\n",
    "            fib2 = fib2 - fib1\n",
    "            fib1 = fib_sum - fib2\n",
    "        else:\n",
    "            return i\n",
    "    if fib2 == 1 and arr[offset+1] == item:\n",
    "        return offset + 1\n",
    "    return None"
   ]
  },
  {
   "cell_type": "markdown",
   "metadata": {
    "id": "IZWk1ZKX0zxS"
   },
   "source": [
    "Интерполяционный поиск"
   ]
  },
  {
   "cell_type": "code",
   "execution_count": 568,
   "metadata": {
    "colab": {
     "base_uri": "https://localhost:8080/"
    },
    "executionInfo": {
     "elapsed": 263,
     "status": "ok",
     "timestamp": 1681543884086,
     "user": {
      "displayName": "Sergey Simonov",
      "userId": "14094206399671235086"
     },
     "user_tz": -180
    },
    "id": "zY8INnAh02Ef",
    "outputId": "4c75619f-da07-42d5-8b56-a9623802962c"
   },
   "outputs": [],
   "source": [
    "def interpolation_search(arr, item):\n",
    "    low = 0\n",
    "    high = len(arr)-1\n",
    "    while low <= high and item >= arr[low] and item <= arr[high]:\n",
    "        pos = low + ((item - arr[low]) * (high - low) // (arr[high] - arr[low]))\n",
    "        if arr[pos] == item:\n",
    "            return pos\n",
    "        elif arr[pos] < item:\n",
    "            low = pos + 1\n",
    "        else:\n",
    "            high = pos - 1\n",
    "    return None"
   ]
  },
  {
   "cell_type": "markdown",
   "metadata": {},
   "source": [
    "Время работы алгоритмов"
   ]
  },
  {
   "cell_type": "code",
   "execution_count": 569,
   "metadata": {},
   "outputs": [
    {
     "name": "stdout",
     "output_type": "stream",
     "text": [
      "Binary search: 0.03360547542572021\n",
      "Tree search: 0.03843869209289551\n",
      "Fibonacci search: 0.033108289241790774\n",
      "Interpolation search: 0.03239248037338257\n",
      "Standart search: 0.033632833957672116\n"
     ]
    }
   ],
   "source": [
    "import time\n",
    "n, m = 100, 100000\n",
    "\n",
    "start_time = time.time()\n",
    "for i in range(n):\n",
    "    data = generate_list(m, 0, 100)\n",
    "    target = random.choice(data)\n",
    "    binary_search(sorted(data), target)\n",
    "binary_time = (time.time() - start_time) / n\n",
    "print(f\"Binary search: {binary_time}\")\n",
    "\n",
    "\n",
    "start_time = time.time()\n",
    "for i in range(n):\n",
    "    data = generate_list(m, 0, 100)\n",
    "    target = random.choice(data)\n",
    "    root = None\n",
    "    for num in data:\n",
    "        root = tree_add(None, num)\n",
    "    tree_search(root, target)\n",
    "tree_time = (time.time() - start_time) / n\n",
    "print(f\"Tree search: {tree_time}\")\n",
    "\n",
    "start_time = time.time()\n",
    "for i in range(n):\n",
    "    data = generate_list(m, 0, 100)\n",
    "    target = random.choice(data)\n",
    "    fibonacci_search(sorted(data), target)\n",
    "fibonacci_time = (time.time() - start_time) / n\n",
    "print(f\"Fibonacci search: {fibonacci_time}\")\n",
    "\n",
    "start_time = time.time()\n",
    "for i in range(n):\n",
    "    data = generate_list(m, 0, 100)\n",
    "    target = random.choice(data)\n",
    "    interpolation_search(sorted(data), target)\n",
    "interpolation_time = (time.time() - start_time) / n\n",
    "print(f\"Interpolation search: {interpolation_time}\")\n",
    "\n",
    "start_time = time.time()\n",
    "for i in range(n):\n",
    "    data = generate_list(m, 0, 100)\n",
    "    target = random.choice(data)\n",
    "    sorted_data = sorted(data)\n",
    "    sorted_data.index(target) \n",
    "standart_time = (time.time() - start_time) / n\n",
    "print(f\"Standart search: {standart_time}\")"
   ]
  },
  {
   "cell_type": "markdown",
   "metadata": {},
   "source": [
    "### Задание №2\n",
    "Реализовать методы рехэширования (простое рехэширование, рехэширование с помощью псевдослучайных чисел, метод цепочек)"
   ]
  },
  {
   "cell_type": "markdown",
   "metadata": {},
   "source": [
    "Простое рехэширование"
   ]
  },
  {
   "cell_type": "code",
   "execution_count": 576,
   "metadata": {},
   "outputs": [],
   "source": [
    "class LinearHashTable:\n",
    "    def __init__(self, size):\n",
    "        self.size = size\n",
    "        self.table = [None] * size\n",
    "\n",
    "    def hash(self, key):\n",
    "        return key % self.size\n",
    "\n",
    "    def insert(self, key):\n",
    "        index = self.hash(key)\n",
    "        while self.table[index] is not None:\n",
    "            index = (index + 1) % self.size\n",
    "        self.table[index] = key\n",
    "\n",
    "    def search(self, key):\n",
    "        index = self.hash(key)\n",
    "        while self.table[index] is not None:\n",
    "            if self.table[index] == key:\n",
    "                return index\n",
    "            index = (index + 1) % self.size\n",
    "        return -1"
   ]
  },
  {
   "cell_type": "markdown",
   "metadata": {},
   "source": [
    "Рехэширование с помощью псевдослучайных чисел"
   ]
  },
  {
   "cell_type": "code",
   "execution_count": 577,
   "metadata": {},
   "outputs": [],
   "source": [
    "import random\n",
    "\n",
    "class RandomRehashHashTable:\n",
    "    def __init__(self, size):\n",
    "        self.size = size\n",
    "        self.table = [None] * size\n",
    "\n",
    "    def hash(self, key):\n",
    "        return key % self.size\n",
    "\n",
    "    def random_step(self, key):\n",
    "        random.seed(key)\n",
    "        return random.randint(1, self.size - 1)\n",
    "\n",
    "    def insert(self, key):\n",
    "        index = self.hash(key)\n",
    "        step = self.random_step(key)\n",
    "        start_index = index\n",
    "        while self.table[index] is not None:\n",
    "            index = (index + step) % self.size\n",
    "            if index == start_index:\n",
    "                raise Exception(\"The table is full, cannot insert the element\")\n",
    "        self.table[index] = key\n",
    "\n",
    "    def search(self, key):\n",
    "        index = self.hash(key)\n",
    "        step = self.random_step(key)\n",
    "        start_index = index\n",
    "        while self.table[index] is not None:\n",
    "            if self.table[index] == key:\n",
    "                return index\n",
    "            index = (index + step) % self.size\n",
    "            if index == start_index:\n",
    "                break\n",
    "        return -1"
   ]
  },
  {
   "cell_type": "markdown",
   "metadata": {},
   "source": [
    "Метод цепочек"
   ]
  },
  {
   "cell_type": "code",
   "execution_count": 578,
   "metadata": {},
   "outputs": [],
   "source": [
    "class ChainingHashTable:\n",
    "    def __init__(self, size):\n",
    "        self.size = size\n",
    "        self.table = [[] for _ in range(size)]\n",
    "\n",
    "    def hash(self, key):\n",
    "        return key % self.size\n",
    "\n",
    "    def insert(self, key):\n",
    "        index = self.hash(key)\n",
    "        self.table[index].append(key)\n",
    "\n",
    "    def search(self, key):\n",
    "        index = self.hash(key)\n",
    "        for item in self.table[index]:\n",
    "            if item == key:\n",
    "                return index\n",
    "        return -1"
   ]
  },
  {
   "cell_type": "markdown",
   "metadata": {},
   "source": [
    "Время работы алгоритмов"
   ]
  },
  {
   "cell_type": "code",
   "execution_count": 579,
   "metadata": {},
   "outputs": [
    {
     "name": "stdout",
     "output_type": "stream",
     "text": [
      "Linear hashing: 0.004721250534057617\n",
      "Random rehashing: 0.0702704930305481\n",
      "Chaining: 0.008275351524353027\n"
     ]
    }
   ],
   "source": [
    "n, m = 100, 10000\n",
    "\n",
    "start_time = time.time()\n",
    "for i in range(n):\n",
    "    data = generate_list(m, 0, 100000)\n",
    "    target = random.choice(data)\n",
    "    table = LinearHashTable(m * 2)\n",
    "    for key in data:\n",
    "        table.insert(key)\n",
    "    table.search(target)\n",
    "linear_time = (time.time() - start_time) / n\n",
    "print(f\"Linear hashing: {linear_time}\")\n",
    "\n",
    "start_time = time.time()\n",
    "for i in range(n):\n",
    "    data = generate_list(m, 0, 100000)\n",
    "    target = random.choice(data)\n",
    "    table = RandomRehashHashTable(m * 10)\n",
    "    for key in data:\n",
    "        table.insert(key)\n",
    "    table.search(target)\n",
    "random_time = (time.time() - start_time) / n\n",
    "print(f\"Random rehashing: {random_time}\")\n",
    "\n",
    "start_time = time.time()\n",
    "for i in range(n):\n",
    "    data = generate_list(m, 0, 100000)\n",
    "    target = random.choice(data)\n",
    "    table = ChainingHashTable(m * 2)\n",
    "    for key in data:\n",
    "        table.insert(key)\n",
    "    table.search(target)\n",
    "chaining_time = (time.time() - start_time) / n\n",
    "print(f\"Chaining: {chaining_time}\")"
   ]
  },
  {
   "cell_type": "markdown",
   "metadata": {},
   "source": [
    "### Задание №3\n",
    "Расставить на стандартной 64-клеточной шахматной доске 8 ферзей так, чтобы ни один из них не находился под боем другого». Подразумевается, что ферзь бьёт все клетки, расположенные по вертикалям, горизонталям и обеим диагоналям.\n",
    "Написать программу,  которая находит хотя бы один способ решения задач."
   ]
  },
  {
   "cell_type": "code",
   "execution_count": null,
   "metadata": {},
   "outputs": [
    {
     "name": "stdout",
     "output_type": "stream",
     "text": [
      "8 Q . . . . . . .\n",
      "7 . . . . Q . . .\n",
      "6 . . . . . . . Q\n",
      "5 . . . . . Q . .\n",
      "4 . . Q . . . . .\n",
      "3 . . . . . . Q .\n",
      "2 . Q . . . . . .\n",
      "1 . . . Q . . . .\n",
      "  a b c d e f g h\n"
     ]
    }
   ],
   "source": [
    "def is_safe(board, row, col):\n",
    "    for i in range(row):\n",
    "        if board[i] == col:\n",
    "            return False\n",
    "        if abs(board[i] - col) == abs(i - row):\n",
    "            return False\n",
    "    return True\n",
    "\n",
    "def solve_queens(row=0, board=None):\n",
    "    if board is None:\n",
    "        board = [-1] * 8\n",
    "\n",
    "    if row == 8:\n",
    "        return board\n",
    "\n",
    "    for col in range(8):\n",
    "        if is_safe(board, row, col):\n",
    "            board[row] = col\n",
    "            result = solve_queens(row + 1, board)\n",
    "            if result:\n",
    "                return result\n",
    "            board[row] = -1 \n",
    "    return None\n",
    "\n",
    "solution = solve_queens()\n",
    "if solution:\n",
    "    for row in range(8):\n",
    "        line = ['.'] * 8\n",
    "        line[solution[row]] = 'Q'\n",
    "        print(str(8-row), ' '.join(line))\n",
    "    print('  a b c d e f g h')\n",
    "else:\n",
    "    print(\"Solution not found\")\n"
   ]
  }
 ],
 "metadata": {
  "colab": {
   "authorship_tag": "ABX9TyMWhZJaFyGwS2iSDSVKsy8F",
   "provenance": []
  },
  "kernelspec": {
   "display_name": "Python 3",
   "name": "python3"
  },
  "language_info": {
   "codemirror_mode": {
    "name": "ipython",
    "version": 3
   },
   "file_extension": ".py",
   "mimetype": "text/x-python",
   "name": "python",
   "nbconvert_exporter": "python",
   "pygments_lexer": "ipython3",
   "version": "3.13.2"
  }
 },
 "nbformat": 4,
 "nbformat_minor": 0
}
