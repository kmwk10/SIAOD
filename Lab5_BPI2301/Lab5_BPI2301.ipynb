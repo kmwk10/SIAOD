{
 "cells": [
  {
   "cell_type": "markdown",
   "id": "db4b50f0",
   "metadata": {
    "id": "db4b50f0"
   },
   "source": [
    "# Лабораторная работа №5\n",
    "## Выполнил студент группы БПИ2301"
   ]
  },
  {
   "cell_type": "markdown",
   "id": "inclusive-motorcycle",
   "metadata": {
    "id": "inclusive-motorcycle"
   },
   "source": [
    "### Задание №1\n",
    "Реализовать методы поиска подстроки в строке. Добавить возможность ввода строки и подстроки с клавиатуры. Предусмотреть возможность существования пробела. Реализовать возможность выбора опции чувствительности или нечувствительности к регистру. Оценить время работы каждого алгоритма поиска и сравнить его со временем работы стандартной функции поиска, используемой в выбранном языке программирования."
   ]
  },
  {
   "cell_type": "markdown",
   "id": "interracial-communication",
   "metadata": {
    "id": "interracial-communication"
   },
   "source": [
    "#### Алгоритм Кнута-Морриса-Пратта"
   ]
  },
  {
   "cell_type": "code",
   "execution_count": 96,
   "id": "presidential-level",
   "metadata": {
    "id": "presidential-level"
   },
   "outputs": [],
   "source": [
    "def kmp_search(text, pattern):\n",
    "    def build_lps(pattern):\n",
    "        lps = [0] * len(pattern)\n",
    "        length = 0\n",
    "        i = 1\n",
    "        while i < len(pattern):\n",
    "            if pattern[i] == pattern[length]:\n",
    "                length += 1\n",
    "                lps[i] = length\n",
    "                i += 1\n",
    "            else:\n",
    "                if length != 0:\n",
    "                    length = lps[length - 1]\n",
    "                else:\n",
    "                    lps[i] = 0\n",
    "                    i += 1\n",
    "        return lps\n",
    "\n",
    "    lps = build_lps(pattern)\n",
    "    i = j = 0 # i - индекс в text, j - индекс в pattern\n",
    "    positions = []\n",
    "    while i < len(text):\n",
    "        if pattern[j] == text[i]:\n",
    "            i += 1\n",
    "            j += 1\n",
    "        if j == len(pattern):\n",
    "            positions.append(i - j)\n",
    "            j = lps[j - 1]\n",
    "        elif i < len(text) and pattern[j] != text[i]:\n",
    "            if j != 0:\n",
    "                j = lps[j - 1]\n",
    "            else:\n",
    "                i += 1\n",
    "    return positions"
   ]
  },
  {
   "cell_type": "markdown",
   "id": "downtown-option",
   "metadata": {
    "id": "downtown-option"
   },
   "source": [
    "#### Упрощенный алгоритм Бойера-Мура"
   ]
  },
  {
   "cell_type": "code",
   "execution_count": 97,
   "id": "respective-reggae",
   "metadata": {
    "id": "respective-reggae"
   },
   "outputs": [],
   "source": [
    "def simplified_boyer_moore(text, pattern):\n",
    "    def bad_character(pattern):\n",
    "        m = len(pattern)\n",
    "        bad_char = {}\n",
    "        for i in range(m - 1):\n",
    "            bad_char[pattern[i]] = m - i - 1\n",
    "        return bad_char\n",
    "\n",
    "    m = len(pattern)\n",
    "    n = len(text)\n",
    "    bad_char = bad_character(pattern)\n",
    "    positions = []\n",
    "\n",
    "    s = 0\n",
    "    while s <= n - m:\n",
    "        j = m - 1\n",
    "        while j >= 0 and pattern[j] == text[s + j]:\n",
    "            j -= 1\n",
    "        if j < 0:\n",
    "            positions.append(s)\n",
    "            s += 1\n",
    "        else:\n",
    "            shift = bad_char.get(text[s + j], m)\n",
    "            s += shift\n",
    "\n",
    "    return positions"
   ]
  },
  {
   "cell_type": "markdown",
   "id": "327ef476",
   "metadata": {},
   "source": [
    "Оценка времени работы алгоритмов"
   ]
  },
  {
   "cell_type": "code",
   "execution_count": 98,
   "id": "8ddfc5c4",
   "metadata": {},
   "outputs": [],
   "source": [
    "def default_search(text, pattern):\n",
    "    positions = []\n",
    "    index = text.find(pattern)\n",
    "    while index != -1:\n",
    "        positions.append(index)\n",
    "        index = text.find(pattern, index + 1)\n",
    "    return positions"
   ]
  },
  {
   "cell_type": "code",
   "execution_count": 99,
   "id": "4def3cc3",
   "metadata": {},
   "outputs": [
    {
     "name": "stdout",
     "output_type": "stream",
     "text": [
      "Результаты: kmp_result: [15, 43], bm_result: [15, 43], default_result: [15, 43]\n",
      "\n",
      "Алгоритм Кнута-Морриса-Пратта: 0.0000780\n",
      "Упрощенный алгоритм Бойера-Мура: 0.0000384\n",
      "Стандартный поиск: 0.0000386\n"
     ]
    }
   ],
   "source": [
    "import time\n",
    "\n",
    "text = \"abbcd asdbcf fbcde abbcdd bcgfdd acbde addbcde\"\n",
    "pattern = \"cde\"\n",
    "case_sensitive = True\n",
    "\n",
    "temp_text = text if case_sensitive else text.lower()\n",
    "temp_pattern = pattern if case_sensitive else pattern.lower()\n",
    "\n",
    "start = time.time()\n",
    "kmp_result = kmp_search(temp_text, temp_pattern)\n",
    "kmp_time = time.time() - start\n",
    "\n",
    "start = time.time()\n",
    "bm_result = simplified_boyer_moore(temp_text, temp_pattern)\n",
    "bm_time = time.time() - start\n",
    "\n",
    "start = time.time()\n",
    "default_result = default_search(temp_text, temp_pattern)\n",
    "default_time = time.time() - start\n",
    "\n",
    "print(f\"Результаты: kmp_result: {kmp_result}, bm_result: {bm_result}, default_result: {default_result}\\n\")\n",
    "print(f\"Алгоритм Кнута-Морриса-Пратта: {kmp_time:.7f}\")\n",
    "print(f\"Упрощенный алгоритм Бойера-Мура: {bm_time:.7f}\")\n",
    "print(f\"Стандартный поиск: {default_time:.7f}\")"
   ]
  },
  {
   "cell_type": "markdown",
   "id": "hybrid-memorial",
   "metadata": {
    "id": "hybrid-memorial"
   },
   "source": [
    "### Задание №2\n",
    "Написать программу, определяющую, является ли данное расположение «решаемым», то есть можно ли из него за конечное число шагов перейти к правильному. Если это возможно, то необходимо найти хотя бы одно решение - последовательность движений, после которой числа будут расположены в правильном порядке.\n",
    "\n",
    "Входные данные: массив чисел, представляющий собой расстановку в порядке «слева направо, сверху вниз». Число 0 обозначает пустое поле.\n",
    "Например, массив [1, 2, 3, 4, 5, 6, 7, 8, 9, 10, 11, 12, 13, 14, 15, 0] представляет собой «решенную» позицию элементов.\n",
    "\n",
    "Выходные данные: если решения нет, то функция должна вернуть пустой массив []. Если решение есть, то необходимо представить решение — для каждого шага записывается номер передвигаемого на данном шаге элемента."
   ]
  },
  {
   "cell_type": "code",
   "execution_count": null,
   "id": "eleven-generic",
   "metadata": {
    "id": "eleven-generic"
   },
   "outputs": [],
   "source": [
    "from collections import deque\n",
    "\n",
    "def is_solvable(state):\n",
    "    inv_count = 0\n",
    "    size = int(len(state) ** 0.5)\n",
    "    for i in range(len(state)):\n",
    "        for j in range(i + 1, len(state)):\n",
    "            if state[i] != 0 and state[j] != 0 and state[i] > state[j]:\n",
    "                inv_count += 1\n",
    "\n",
    "    if size % 2 == 1:\n",
    "        return inv_count % 2 == 0\n",
    "    else:\n",
    "        zero_row = state.index(0) // size\n",
    "        row_from_bottom = size - zero_row\n",
    "        return (inv_count + row_from_bottom) % 2 == 1\n",
    "\n",
    "\n",
    "def get_neighbors(state):\n",
    "    neighbors = []\n",
    "    n = int(len(state) ** 0.5)\n",
    "    zero_pos = state.index(0)\n",
    "    row, col = divmod(zero_pos, n)\n",
    "\n",
    "    directions = [(-1, 0), (1, 0), (0, -1), (0, 1)]\n",
    "\n",
    "    for dr, dc in directions:\n",
    "        new_row, new_col = row + dr, col + dc\n",
    "        if 0 <= new_row < n and 0 <= new_col < n:\n",
    "            new_pos = new_row * n + new_col\n",
    "            new_state = list(state)\n",
    "            new_state[zero_pos], new_state[new_pos] = new_state[new_pos], new_state[zero_pos]\n",
    "            neighbors.append((new_state, new_pos))\n",
    "\n",
    "    return neighbors\n",
    "\n",
    "\n",
    "def solve_puzzle(start_state, max_depth=20):\n",
    "    n = int(len(start_state) ** 0.5)\n",
    "    goal_state = list(range(1, n*n)) + [0]\n",
    "\n",
    "    if start_state == goal_state:\n",
    "        return []\n",
    "    \n",
    "    if not is_solvable(start_state):\n",
    "        return []\n",
    "\n",
    "    queue = deque([(start_state, start_state.index(0), [])])\n",
    "    visited = set()\n",
    "    visited.add(tuple(start_state))\n",
    "\n",
    "    while queue:\n",
    "        current_state, zero_pos, path = queue.popleft()\n",
    "\n",
    "        if len(path) > max_depth:\n",
    "            continue\n",
    "\n",
    "        for neighbor, new_pos in get_neighbors(current_state):\n",
    "            if tuple(neighbor) not in visited:\n",
    "                visited.add(tuple(neighbor))\n",
    "                new_path = path + [current_state[new_pos]]\n",
    "                if neighbor == goal_state:\n",
    "                    return new_path\n",
    "                queue.append((neighbor, new_pos, new_path))\n",
    "\n",
    "    return []"
   ]
  },
  {
   "cell_type": "code",
   "execution_count": 116,
   "id": "2c5d6ada",
   "metadata": {},
   "outputs": [
    {
     "name": "stdout",
     "output_type": "stream",
     "text": [
      "#1 Solution: []\n",
      "   Time: 4.4345855712890625e-05\n",
      "#2 Solution: [15]\n",
      "   Time: 7.462501525878906e-05\n",
      "#3 Solution: [14, 12, 11, 14, 12, 15, 10, 11, 14, 12, 15, 14, 11, 10, 14, 15]\n",
      "   Time: 0.3974592685699463\n"
     ]
    }
   ],
   "source": [
    "start_state = [1, 2, 3, 4,\n",
    "               5, 6, 7, 8,\n",
    "               9, 10, 11, 12,\n",
    "               13, 14, 15, 0]\n",
    "\n",
    "start_time = time.time()\n",
    "solution = solve_puzzle(start_state)\n",
    "end_time = time.time()\n",
    "\n",
    "print(\"#1 Solution:\", solution)\n",
    "print(\"   Time:\", end_time - start_time)\n",
    "\n",
    "start_state = [1, 2, 3, 4,\n",
    "               5, 6, 7, 8,\n",
    "               9, 10, 11, 12,\n",
    "               13, 14, 0, 15]\n",
    "\n",
    "start_time = time.time()\n",
    "solution = solve_puzzle(start_state)\n",
    "end_time = time.time()\n",
    "\n",
    "print(\"#2 Solution:\", solution)\n",
    "print(\"   Time:\", end_time - start_time)\n",
    "\n",
    "start_state = [1, 2, 3, 4,\n",
    "               5, 6, 7, 8,\n",
    "               9, 10, 12, 11,\n",
    "               13, 15, 14, 0]\n",
    "start_time = time.time()\n",
    "solution = solve_puzzle(start_state)\n",
    "end_time = time.time()\n",
    "\n",
    "print(\"#3 Solution:\", solution)\n",
    "print(\"   Time:\", end_time - start_time)"
   ]
  },
  {
   "cell_type": "markdown",
   "id": "arbitrary-amazon",
   "metadata": {
    "id": "arbitrary-amazon"
   },
   "source": [
    "### Вывод"
   ]
  },
  {
   "cell_type": "markdown",
   "id": "71bc58bf",
   "metadata": {
    "id": "71bc58bf"
   },
   "source": [
    "В лабораторной работе реализованы алгоритмы поиска подстроки (Кнута-Морриса-Пратта и упрощённый Бойер-Мур) с учётом регистра и пробелов, а также решена задача «Пятнашек» с проверкой решаемости и поиском решения через поиск в ширину. Работа помогла лучше понять алгоритмы поиска и моделирование состояний для решения задач с оптимальным путём."
   ]
  }
 ],
 "metadata": {
  "colab": {
   "provenance": []
  },
  "kernelspec": {
   "display_name": "Python 3",
   "language": "python",
   "name": "python3"
  },
  "language_info": {
   "codemirror_mode": {
    "name": "ipython",
    "version": 3
   },
   "file_extension": ".py",
   "mimetype": "text/x-python",
   "name": "python",
   "nbconvert_exporter": "python",
   "pygments_lexer": "ipython3",
   "version": "3.13.2"
  }
 },
 "nbformat": 4,
 "nbformat_minor": 5
}
